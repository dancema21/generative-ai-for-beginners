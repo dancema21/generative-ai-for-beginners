{
 "cells": [
  {
   "cell_type": "code",
   "execution_count": 35,
   "id": "56c21125",
   "metadata": {},
   "outputs": [],
   "source": [
    "import os\n",
    "import json\n",
    "from openai import OpenAI\n",
    "from dotenv import load_dotenv\n",
    "load_dotenv()\n",
    "\n",
    "client = OpenAI(\n",
    "  api_key=os.environ['HF_API_KEY'],  # this is also the default, it can be omitted\n",
    "  base_url = \"https://router.huggingface.co/v1\"\n",
    "  )\n",
    "\n",
    "deployment=\"openai/gpt-oss-20b:fireworks-ai\""
   ]
  },
  {
   "cell_type": "code",
   "execution_count": null,
   "id": "8d4d5b8d",
   "metadata": {},
   "outputs": [],
   "source": [
    "# define tools \n",
    "function_schema = { \n",
    "    \"type\":\"function\",\n",
    "    \"name\": \"get_word_of_the_day\",\n",
    "    \"description\" : \"Retrieves the word of the day based in a given language\",\n",
    "    \"parameters\" : {\n",
    "        \"type\" : \"object\",\n",
    "        \"properties\" : {\n",
    "            \"language\" : {\n",
    "                \"type\": \"string\",\n",
    "                \"enum\" : [\"french\", \"english\", \"italian\"],\n",
    "                \"description\" : \"The language\"\n",
    "                } \n",
    "            },\n",
    "            \"required\": [\"language\"],\n",
    "            \"additionalProperties\" : False\n",
    "        },\n",
    "    \"strict\": True\n",
    "}\n",
    "\n",
    "\n",
    "# Harmony-style system message\n",
    "system_prompt = f\"\"\"\n",
    "You are a function-calling assistant.\n",
    "You have the following function available:\n",
    "\n",
    "Name: {function_schema['name']}\n",
    "Description: {function_schema['description']}\n",
    "Parameters: {json.dumps(function_schema['parameters'], indent=2)}\n",
    "\n",
    "When a user asks something that matches this function, respond ONLY in valid JSON with:\n",
    "{{\n",
    "  \"name\": \"<function_name>\",\n",
    "  \"arguments\": {{...}}\n",
    "}}\n",
    "Do not add extra text or explanation.\n",
    "\"\"\"\n",
    "\n",
    "def get_word_of_the_day(language: str) -> str:\n",
    "    return f\"In {language}: the word of the day is 'GOOD'\"\n",
    "\n",
    "\n",
    "\n",
    "# 1st prompt with tools\n",
    "\n",
    "prompt = \"What is the word of the day in English ?\"\n",
    "\n",
    "messages = [\n",
    "    {\"role\": \"system\", \"content\": system_prompt},\n",
    "    {\"role\": \"user\", \"content\": prompt}\n",
    "] \n",
    "\n",
    "response =  client.chat.completions.create(   \n",
    "    model=deployment,                                         \n",
    "    messages=messages,\n",
    "    max_tokens=200\n",
    ")\n",
    "\n"
   ]
  },
  {
   "cell_type": "code",
   "execution_count": null,
   "id": "fbd65035",
   "metadata": {},
   "outputs": [
    {
     "name": "stdout",
     "output_type": "stream",
     "text": [
      "Recommended Function Call : get_word_of_the_day\n",
      "In english: the word of the day is 'GOOD'\n"
     ]
    }
   ],
   "source": [
    "response_message = json.loads(response.choices[0].message.content)\n",
    "if response_message['name']:\n",
    "    print(f\"Recommended Function Call : {response_message['name']}\")\n",
    "\n",
    "    available_functions = {\n",
    "        'get_word_of_the_day': get_word_of_the_day\n",
    "    }\n",
    "\n",
    "    function_to_call = available_functions[response_message['name']]\n",
    "    function_args = response_message['arguments']\n",
    "\n",
    "    function_response = function_to_call(**function_args)\n",
    "    print(function_response)\n"
   ]
  }
 ],
 "metadata": {
  "kernelspec": {
   "display_name": "Python 3",
   "language": "python",
   "name": "python3"
  },
  "language_info": {
   "codemirror_mode": {
    "name": "ipython",
    "version": 3
   },
   "file_extension": ".py",
   "mimetype": "text/x-python",
   "name": "python",
   "nbconvert_exporter": "python",
   "pygments_lexer": "ipython3",
   "version": "3.10.13"
  }
 },
 "nbformat": 4,
 "nbformat_minor": 5
}
